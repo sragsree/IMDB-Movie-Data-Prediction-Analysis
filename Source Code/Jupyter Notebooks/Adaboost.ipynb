{
 "cells": [
  {
   "cell_type": "code",
   "execution_count": 1,
   "metadata": {
    "collapsed": true
   },
   "outputs": [],
   "source": [
    "import numpy as np\n",
    "import pandas as pd\n",
    "from sklearn.model_selection import train_test_split\n",
    "from sklearn.preprocessing import StandardScaler\n",
    "from sklearn.ensemble import AdaBoostClassifier\n",
    "from sklearn.tree import DecisionTreeClassifier\n",
    "from sklearn.metrics import confusion_matrix\n",
    "from sklearn.metrics import accuracy_score\n",
    "from sklearn.metrics import precision_score\n",
    "from sklearn.metrics import recall_score\n",
    "from sklearn.metrics import roc_curve, auc\n",
    "import matplotlib.pyplot as plt\n",
    "import random"
   ]
  },
  {
   "cell_type": "code",
   "execution_count": 2,
   "metadata": {},
   "outputs": [
    {
     "data": {
      "image/png": "[encoded data removed]",
      "text/plain": [
       "<matplotlib.figure.Figure at 0x11b090a90>"
      ]
     },
     "metadata": {},
     "output_type": "display_data"
    }
   ],
   "source": [
    "data=pd.read_csv(\"IMDB-Movie-Data.csv\")\n",
    "data=data.dropna(axis=0, how='any')\n",
    "\n",
    "#Data for Evaluation\n",
    "X = data[data.columns[6:32]]\n",
    "Y=data.iloc[:,-1]\n",
    "\n",
    "#Train and Test Splitting\n",
    "X_train,X_test,Y_train,Y_test=train_test_split(X,Y,test_size=0.25,random_state=0)\n",
    "scaler = StandardScaler()\n",
    "X_train = scaler.fit_transform(X_train)\n",
    "X_test = scaler.transform(X_test)\n",
    "\n",
    "#Model and Training\n",
    "adaboost_model = AdaBoostClassifier(DecisionTreeClassifier(max_depth=2))\n",
    "adaboost_model.fit(X_train, Y_train)\n",
    "y_pred = adaboost_model.predict(X_test)\n",
    "\n",
    "#Model Evaluation\n",
    "conf_mat = confusion_matrix(Y_test,y_pred)\n",
    "acc = accuracy_score(Y_test, y_pred)\n",
    "precision = precision_score(Y_test,y_pred)\n",
    "recall = recall_score(Y_test,y_pred)\n",
    "false_positive_rate, true_positive_rate, thresholds = roc_curve(Y_test, y_pred)\n",
    "roc_auc = auc(false_positive_rate, true_positive_rate)\n",
    "plt.title('Receiver Operating Characteristic')\n",
    "plt.plot(false_positive_rate, true_positive_rate, 'b',\n",
    "label='AUC = %0.2f'% roc_auc)\n",
    "plt.legend(loc='lower right')\n",
    "plt.plot([0,1],[0,1],'r--')\n",
    "plt.xlim([-0.1,1.2])\n",
    "plt.ylim([-0.1,1.2])\n",
    "plt.ylabel('True Positive Rate')\n",
    "plt.xlabel('False Positive Rate')\n",
    "plt.show()"
   ]
  },
  {
   "cell_type": "code",
   "execution_count": 3,
   "metadata": {},
   "outputs": [
    {
     "name": "stdout",
     "output_type": "stream",
     "text": [
      "Confusion Matrix is :\n",
      "[[172   1]\n",
      " [  0  37]]\n",
      "\n",
      "Accuracy is :\n",
      "0.995238095238\n",
      "\n",
      "Precision is :\n",
      "0.973684210526\n",
      "\n",
      "Recall is: \n",
      "1.0\n"
     ]
    }
   ],
   "source": [
    "#Print Results\n",
    "print('Confusion Matrix is :')\n",
    "print(conf_mat)\n",
    "print('\\nAccuracy is :')\n",
    "print(acc)\n",
    "print('\\nPrecision is :')\n",
    "print(precision)\n",
    "print('\\nRecall is: ')\n",
    "print(recall)"
   ]
  },
  {
   "cell_type": "code",
   "execution_count": null,
   "metadata": {
    "collapsed": true
   },
   "outputs": [],
   "source": []
  }
 ],
 "metadata": {
  "kernelspec": {
   "display_name": "Python 3",
   "language": "python",
   "name": "python3"
  },
  "language_info": {
   "codemirror_mode": {
    "name": "ipython",
    "version": 3
   },
   "file_extension": ".py",
   "mimetype": "text/x-python",
   "name": "python",
   "nbconvert_exporter": "python",
   "pygments_lexer": "ipython3",
   "version": "3.6.1"
  }
 },
 "nbformat": 4,
 "nbformat_minor": 2
}
